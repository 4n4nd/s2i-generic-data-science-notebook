
{
"cells": [
{
"cell_type": "code",
"metadata": {},
"outputs": [],
"source": [
    "import cloudpickle"
]
}
],
"metadata": {
},
"nbformat": 4,
"nbformat_minor": 5
}
