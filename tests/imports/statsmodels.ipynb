
{
"cells": [
{
"cell_type": "code",
"metadata": {},
"outputs": [],
"source": [
    "import statsmodels"
]
}
],
"metadata": {
},
"nbformat": 4,
"nbformat_minor": 5
}
