
{
"cells": [
{
"cell_type": "code",
"metadata": {},
"outputs": [],
"source": [
    "import pyarrow"
]
}
],
"metadata": {
},
"nbformat": 4,
"nbformat_minor": 5
}
