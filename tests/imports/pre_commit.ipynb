
{
"cells": [
{
"cell_type": "code",
"metadata": {},
"outputs": [],
"source": [
    "import pre_commit"
]
}
],
"metadata": {
},
"nbformat": 4,
"nbformat_minor": 5
}
