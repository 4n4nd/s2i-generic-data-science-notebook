
{
"cells": [
{
"cell_type": "code",
"metadata": {},
"outputs": [],
"source": [
    "import cython"
]
}
],
"metadata": {
},
"nbformat": 4,
"nbformat_minor": 5
}
