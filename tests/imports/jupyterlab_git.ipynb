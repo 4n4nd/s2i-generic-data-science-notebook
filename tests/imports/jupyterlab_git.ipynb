
{
"cells": [
{
"cell_type": "code",
"metadata": {},
"outputs": [],
"source": [
    "import jupyterlab_git"
]
}
],
"metadata": {
},
"nbformat": 4,
"nbformat_minor": 5
}
