
{
"cells": [
{
"cell_type": "code",
"metadata": {},
"outputs": [],
"source": [
    "import ipywidgets"
]
}
],
"metadata": {
},
"nbformat": 4,
"nbformat_minor": 5
}
